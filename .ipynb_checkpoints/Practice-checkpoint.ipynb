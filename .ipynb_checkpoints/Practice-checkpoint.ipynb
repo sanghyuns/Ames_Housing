{
 "cells": [
  {
   "cell_type": "code",
   "execution_count": 19,
   "id": "bec8e73d",
   "metadata": {},
   "outputs": [],
   "source": [
    "import pandas as pd\n",
    "import matplotlib.pyplot as plt\n",
    "\n",
    "from sklearn.impute import SimpleImputer\n",
    "# fill missing values with either mean/median/mode \n",
    "from sklearn.preprocessing import OneHotEncoder, PolynomialFeatures, StandardScaler\n",
    "\n",
    "from sklearn.linear_model import LinearRegression, Lasso\n",
    "from sklearn.metrics import mean_squared_error\n",
    "from sklearn.model_selection import train_test_split\n",
    "#mean_squared_error - easier to understand by non-technical audience"
   ]
  },
  {
   "cell_type": "code",
   "execution_count": 3,
   "id": "a96fe167",
   "metadata": {},
   "outputs": [],
   "source": [
    "train = pd.read_csv('datasets/train.csv')"
   ]
  },
  {
   "cell_type": "code",
   "execution_count": 4,
   "id": "56d1e3f0",
   "metadata": {},
   "outputs": [
    {
     "data": {
      "text/plain": [
       "<matplotlib.collections.PathCollection at 0x7fe9ad691340>"
      ]
     },
     "execution_count": 4,
     "metadata": {},
     "output_type": "execute_result"
    },
    {
     "data": {
      "image/png": "[encoded data removed]",
      "text/plain": [
       "<Figure size 432x288 with 1 Axes>"
      ]
     },
     "metadata": {
      "needs_background": "light"
     },
     "output_type": "display_data"
    }
   ],
   "source": [
    "plt.scatter(train['Gr Liv Area'], train['SalePrice'])"
   ]
  },
  {
   "cell_type": "code",
   "execution_count": null,
   "id": "c1ca7ef9",
   "metadata": {},
   "outputs": [],
   "source": [
    "# take a look at the two outliers... what should i do with them?\n",
    "# - drop? impute?"
   ]
  },
  {
   "cell_type": "markdown",
   "id": "33bea35f",
   "metadata": {},
   "source": [
    "## Import Data"
   ]
  },
  {
   "cell_type": "code",
   "execution_count": 14,
   "id": "8107cbe3",
   "metadata": {},
   "outputs": [
    {
     "data": {
      "text/plain": [
       "(2051, 81)"
      ]
     },
     "execution_count": 14,
     "metadata": {},
     "output_type": "execute_result"
    }
   ],
   "source": [
    "df.shape"
   ]
  },
  {
   "cell_type": "code",
   "execution_count": 16,
   "id": "5ba99ed9",
   "metadata": {},
   "outputs": [
    {
     "data": {
      "text/plain": [
       "Lot Frontage      330\n",
       "Garage Yr Blt     114\n",
       "Mas Vnr Type       22\n",
       "Mas Vnr Area       22\n",
       "Bsmt Exposure       4\n",
       "BsmtFin Type 2      2\n",
       "Bsmt Full Bath      2\n",
       "Bsmt Half Bath      2\n",
       "Garage Cond         1\n",
       "Bsmt Qual           1\n",
       "Garage Finish       1\n",
       "Garage Cars         1\n",
       "Garage Area         1\n",
       "Garage Qual         1\n",
       "Total Bsmt SF       1\n",
       "BsmtFin Type 1      1\n",
       "Bsmt Cond           1\n",
       "BsmtFin SF 1        1\n",
       "BsmtFin SF 2        1\n",
       "Bsmt Unf SF         1\n",
       "Full Bath           0\n",
       "Half Bath           0\n",
       "Bedroom AbvGr       0\n",
       "Kitchen Qual        0\n",
       "TotRms AbvGrd       0\n",
       "dtype: int64"
      ]
     },
     "execution_count": 16,
     "metadata": {},
     "output_type": "execute_result"
    }
   ],
   "source": [
    "df = pd.read_csv('datasets/train.csv', \n",
    "                 keep_default_na = False,\n",
    "                 na_values=[''])\n",
    "df.isnull().sum().sort_values(ascending=False).head(25)"
   ]
  },
  {
   "cell_type": "code",
   "execution_count": 17,
   "id": "3ccef950",
   "metadata": {},
   "outputs": [],
   "source": [
    "features = [\n",
    "    'Gr Liv Area', # numeric\n",
    "    'Lot Frontage', # numeric\n",
    "    'Lot Shape', # ordinal\n",
    "    'MS Zoning' # categorical / nominal\n",
    "]"
   ]
  },
  {
   "cell_type": "code",
   "execution_count": 18,
   "id": "3dced883",
   "metadata": {},
   "outputs": [
    {
     "data": {
      "text/plain": [
       "Gr Liv Area       0\n",
       "Lot Frontage    330\n",
       "Lot Shape         0\n",
       "MS Zoning         0\n",
       "dtype: int64"
      ]
     },
     "execution_count": 18,
     "metadata": {},
     "output_type": "execute_result"
    }
   ],
   "source": [
    "df[features].isnull().sum()"
   ]
  },
  {
   "cell_type": "markdown",
   "id": "e16634bf",
   "metadata": {},
   "source": [
    "## Set up X and y"
   ]
  },
  {
   "cell_type": "code",
   "execution_count": 20,
   "id": "d84f9ac9",
   "metadata": {},
   "outputs": [],
   "source": [
    "X = df[features]\n",
    "y = df['SalePrice']\n",
    "\n",
    "X_train, X_test, y_train, y_test = train_test_split(X, y, random_state = 42)"
   ]
  },
  {
   "cell_type": "markdown",
   "id": "5433f237",
   "metadata": {},
   "source": [
    "#### Fill missing values"
   ]
  },
  {
   "cell_type": "code",
   "execution_count": 25,
   "id": "bc56d908",
   "metadata": {},
   "outputs": [],
   "source": [
    "si = SimpleImputer()\n",
    "\n",
    "si.fit(X_train[['Lot Frontage']])\n",
    "\n",
    "X_train['Lot Frontage'] = si.transform(X_train[['Lot Frontage']])\n",
    "X_test['Lot Frontage'] = si.transform(X_test[['Lot Frontage']])"
   ]
  },
  {
   "cell_type": "markdown",
   "id": "34e53256",
   "metadata": {},
   "source": [
    "#### Encode categorical features"
   ]
  },
  {
   "cell_type": "code",
   "execution_count": 27,
   "id": "b2fb8a85",
   "metadata": {},
   "outputs": [
    {
     "data": {
      "text/plain": [
       "(array(['Reg', 'IR1', 'IR2', 'IR3'], dtype=object),\n",
       " array(['IR1', 'Reg', 'IR2', 'IR3'], dtype=object))"
      ]
     },
     "execution_count": 27,
     "metadata": {},
     "output_type": "execute_result"
    }
   ],
   "source": [
    "X_train['Lot Shape'].unique(), X_test['Lot Shape'].unique()"
   ]
  },
  {
   "cell_type": "code",
   "execution_count": 28,
   "id": "864fc78e",
   "metadata": {},
   "outputs": [],
   "source": [
    "ord_vals = {\n",
    "    'Reg': 3,\n",
    "    'IR1': 2,\n",
    "    'IR2': 1,\n",
    "    'IR3': 0\n",
    "}"
   ]
  },
  {
   "cell_type": "code",
   "execution_count": 29,
   "id": "79003139",
   "metadata": {},
   "outputs": [],
   "source": [
    "X_train['Lot Shape'] = X_train['Lot Shape'].map(ord_vals)\n",
    "X_test['Lot Shape'] = X_test['Lot Shape'].map(ord_vals)"
   ]
  },
  {
   "cell_type": "code",
   "execution_count": 30,
   "id": "6eea377b",
   "metadata": {},
   "outputs": [
    {
     "data": {
      "text/plain": [
       "Gr Liv Area       int64\n",
       "Lot Frontage    float64\n",
       "Lot Shape         int64\n",
       "MS Zoning        object\n",
       "dtype: object"
      ]
     },
     "execution_count": 30,
     "metadata": {},
     "output_type": "execute_result"
    }
   ],
   "source": [
    "X_train.dtypes"
   ]
  },
  {
   "cell_type": "code",
   "execution_count": 31,
   "id": "8c92b6b2",
   "metadata": {},
   "outputs": [
    {
     "data": {
      "text/plain": [
       "OneHotEncoder(handle_unknown='ignore')"
      ]
     },
     "execution_count": 31,
     "metadata": {},
     "output_type": "execute_result"
    }
   ],
   "source": [
    "ohe = OneHotEncoder(handle_unknown='ignore')\n",
    "ohe.fit(X_train[['MS Zoning']])"
   ]
  },
  {
   "cell_type": "code",
   "execution_count": 33,
   "id": "aceedd4b",
   "metadata": {},
   "outputs": [
    {
     "data": {
      "text/plain": [
       "array(['MS Zoning_A (agr)', 'MS Zoning_C (all)', 'MS Zoning_FV',\n",
       "       'MS Zoning_RH', 'MS Zoning_RL', 'MS Zoning_RM'], dtype=object)"
      ]
     },
     "execution_count": 33,
     "metadata": {},
     "output_type": "execute_result"
    }
   ],
   "source": [
    "ohe.get_feature_names_out()"
   ]
  },
  {
   "cell_type": "code",
   "execution_count": 34,
   "id": "8030d99b",
   "metadata": {},
   "outputs": [
    {
     "data": {
      "text/plain": [
       "<2051x6 sparse matrix of type '<class 'numpy.float64'>'\n",
       "\twith 2050 stored elements in Compressed Sparse Row format>"
      ]
     },
     "execution_count": 34,
     "metadata": {},
     "output_type": "execute_result"
    }
   ],
   "source": [
    "ohe.transform(X[['MS Zoning']])"
   ]
  },
  {
   "cell_type": "code",
   "execution_count": 35,
   "id": "b43ee568",
   "metadata": {},
   "outputs": [
    {
     "data": {
      "text/html": [
       "<div>\n",
       "<style scoped>\n",
       "    .dataframe tbody tr th:only-of-type {\n",
       "        vertical-align: middle;\n",
       "    }\n",
       "\n",
       "    .dataframe tbody tr th {\n",
       "        vertical-align: top;\n",
       "    }\n",
       "\n",
       "    .dataframe thead th {\n",
       "        text-align: right;\n",
       "    }\n",
       "</style>\n",
       "<table border=\"1\" class=\"dataframe\">\n",
       "  <thead>\n",
       "    <tr style=\"text-align: right;\">\n",
       "      <th></th>\n",
       "      <th>MS Zoning_A (agr)</th>\n",
       "      <th>MS Zoning_C (all)</th>\n",
       "      <th>MS Zoning_FV</th>\n",
       "      <th>MS Zoning_RH</th>\n",
       "      <th>MS Zoning_RL</th>\n",
       "      <th>MS Zoning_RM</th>\n",
       "    </tr>\n",
       "  </thead>\n",
       "  <tbody>\n",
       "    <tr>\n",
       "      <th>532</th>\n",
       "      <td>0.0</td>\n",
       "      <td>0.0</td>\n",
       "      <td>0.0</td>\n",
       "      <td>0.0</td>\n",
       "      <td>1.0</td>\n",
       "      <td>0.0</td>\n",
       "    </tr>\n",
       "    <tr>\n",
       "      <th>415</th>\n",
       "      <td>0.0</td>\n",
       "      <td>0.0</td>\n",
       "      <td>0.0</td>\n",
       "      <td>0.0</td>\n",
       "      <td>1.0</td>\n",
       "      <td>0.0</td>\n",
       "    </tr>\n",
       "    <tr>\n",
       "      <th>273</th>\n",
       "      <td>0.0</td>\n",
       "      <td>0.0</td>\n",
       "      <td>0.0</td>\n",
       "      <td>0.0</td>\n",
       "      <td>1.0</td>\n",
       "      <td>0.0</td>\n",
       "    </tr>\n",
       "  </tbody>\n",
       "</table>\n",
       "</div>"
      ],
      "text/plain": [
       "     MS Zoning_A (agr)  MS Zoning_C (all)  MS Zoning_FV  MS Zoning_RH  \\\n",
       "532                0.0                0.0           0.0           0.0   \n",
       "415                0.0                0.0           0.0           0.0   \n",
       "273                0.0                0.0           0.0           0.0   \n",
       "\n",
       "     MS Zoning_RL  MS Zoning_RM  \n",
       "532           1.0           0.0  \n",
       "415           1.0           0.0  \n",
       "273           1.0           0.0  "
      ]
     },
     "execution_count": 35,
     "metadata": {},
     "output_type": "execute_result"
    }
   ],
   "source": [
    "train_ohe = pd.DataFrame(\n",
    "    ohe.transform(X_train[['MS Zoning']]).todense(),\n",
    "    columns = ohe.get_feature_names_out(),\n",
    "    index = X_train.index\n",
    ")\n",
    "\n",
    "train_ohe.head(3)"
   ]
  },
  {
   "cell_type": "code",
   "execution_count": 36,
   "id": "039b385c",
   "metadata": {},
   "outputs": [],
   "source": [
    "test_ohe = pd.DataFrame(\n",
    "    ohe.transform(X_test[['MS Zoning']]).todense(),\n",
    "    columns = ohe.get_feature_names_out(),\n",
    "    index = X_test.index\n",
    ")"
   ]
  },
  {
   "cell_type": "code",
   "execution_count": 37,
   "id": "fd04f5f8",
   "metadata": {},
   "outputs": [
    {
     "data": {
      "text/html": [
       "<div>\n",
       "<style scoped>\n",
       "    .dataframe tbody tr th:only-of-type {\n",
       "        vertical-align: middle;\n",
       "    }\n",
       "\n",
       "    .dataframe tbody tr th {\n",
       "        vertical-align: top;\n",
       "    }\n",
       "\n",
       "    .dataframe thead th {\n",
       "        text-align: right;\n",
       "    }\n",
       "</style>\n",
       "<table border=\"1\" class=\"dataframe\">\n",
       "  <thead>\n",
       "    <tr style=\"text-align: right;\">\n",
       "      <th></th>\n",
       "      <th>Gr Liv Area</th>\n",
       "      <th>Lot Frontage</th>\n",
       "      <th>Lot Shape</th>\n",
       "      <th>MS Zoning_A (agr)</th>\n",
       "      <th>MS Zoning_C (all)</th>\n",
       "      <th>MS Zoning_FV</th>\n",
       "      <th>MS Zoning_RH</th>\n",
       "      <th>MS Zoning_RL</th>\n",
       "      <th>MS Zoning_RM</th>\n",
       "    </tr>\n",
       "  </thead>\n",
       "  <tbody>\n",
       "    <tr>\n",
       "      <th>532</th>\n",
       "      <td>1587</td>\n",
       "      <td>85.0</td>\n",
       "      <td>3</td>\n",
       "      <td>0.0</td>\n",
       "      <td>0.0</td>\n",
       "      <td>0.0</td>\n",
       "      <td>0.0</td>\n",
       "      <td>1.0</td>\n",
       "      <td>0.0</td>\n",
       "    </tr>\n",
       "    <tr>\n",
       "      <th>415</th>\n",
       "      <td>2267</td>\n",
       "      <td>107.0</td>\n",
       "      <td>3</td>\n",
       "      <td>0.0</td>\n",
       "      <td>0.0</td>\n",
       "      <td>0.0</td>\n",
       "      <td>0.0</td>\n",
       "      <td>1.0</td>\n",
       "      <td>0.0</td>\n",
       "    </tr>\n",
       "    <tr>\n",
       "      <th>273</th>\n",
       "      <td>864</td>\n",
       "      <td>60.0</td>\n",
       "      <td>3</td>\n",
       "      <td>0.0</td>\n",
       "      <td>0.0</td>\n",
       "      <td>0.0</td>\n",
       "      <td>0.0</td>\n",
       "      <td>1.0</td>\n",
       "      <td>0.0</td>\n",
       "    </tr>\n",
       "  </tbody>\n",
       "</table>\n",
       "</div>"
      ],
      "text/plain": [
       "     Gr Liv Area  Lot Frontage  Lot Shape  MS Zoning_A (agr)  \\\n",
       "532         1587          85.0          3                0.0   \n",
       "415         2267         107.0          3                0.0   \n",
       "273          864          60.0          3                0.0   \n",
       "\n",
       "     MS Zoning_C (all)  MS Zoning_FV  MS Zoning_RH  MS Zoning_RL  MS Zoning_RM  \n",
       "532                0.0           0.0           0.0           1.0           0.0  \n",
       "415                0.0           0.0           0.0           1.0           0.0  \n",
       "273                0.0           0.0           0.0           1.0           0.0  "
      ]
     },
     "execution_count": 37,
     "metadata": {},
     "output_type": "execute_result"
    }
   ],
   "source": [
    "X_train = pd.concat(\n",
    "    [X_train.drop(columns= ['MS Zoning']), train_ohe],\n",
    "    axis = 1\n",
    ")\n",
    "\n",
    "X_train.head(3)"
   ]
  },
  {
   "cell_type": "code",
   "execution_count": 38,
   "id": "6e1a5e76",
   "metadata": {},
   "outputs": [],
   "source": [
    "X_test = pd.concat(\n",
    "    [X_test.drop(columns= ['MS Zoning']), test_ohe],\n",
    "    axis = 1\n",
    ")"
   ]
  },
  {
   "cell_type": "markdown",
   "id": "9838b122",
   "metadata": {},
   "source": [
    "## Modeling"
   ]
  },
  {
   "cell_type": "code",
   "execution_count": 39,
   "id": "8a1bcaa6",
   "metadata": {},
   "outputs": [
    {
     "data": {
      "text/plain": [
       "LinearRegression()"
      ]
     },
     "execution_count": 39,
     "metadata": {},
     "output_type": "execute_result"
    }
   ],
   "source": [
    "lr = LinearRegression()\n",
    "lr.fit(X_train, y_train)\n"
   ]
  },
  {
   "cell_type": "code",
   "execution_count": 41,
   "id": "fe1dccfb",
   "metadata": {},
   "outputs": [
    {
     "data": {
      "text/plain": [
       "(0.5364208201321851, 0.5884360389512615)"
      ]
     },
     "execution_count": 41,
     "metadata": {},
     "output_type": "execute_result"
    }
   ],
   "source": [
    "lr.score(X_train, y_train), lr.score(X_test, y_test)"
   ]
  },
  {
   "cell_type": "code",
   "execution_count": 43,
   "id": "cfb81173",
   "metadata": {},
   "outputs": [],
   "source": [
    "def rmse(model, X, y):\n",
    "    model_preds = model.predict(X)\n",
    "    return mean_squared_error(y, model_preds, squared=False)"
   ]
  },
  {
   "cell_type": "code",
   "execution_count": 45,
   "id": "91ac82fe",
   "metadata": {},
   "outputs": [
    {
     "data": {
      "text/plain": [
       "(54147.16889894324, 50269.40320855195)"
      ]
     },
     "execution_count": 45,
     "metadata": {},
     "output_type": "execute_result"
    }
   ],
   "source": [
    "# on average our model is about 50,000-54,000 off\n",
    "rmse(lr, X_train, y_train), rmse(lr, X_test, y_test)"
   ]
  },
  {
   "cell_type": "markdown",
   "id": "7a0f1eb4",
   "metadata": {},
   "source": [
    "## Lasso"
   ]
  },
  {
   "cell_type": "code",
   "execution_count": 46,
   "id": "5f23873a",
   "metadata": {},
   "outputs": [],
   "source": [
    "ss = StandardScaler()\n",
    "X_train_ss = ss.fit_transform(X_train)\n",
    "X_test_ss = ss.transform(X_test)"
   ]
  },
  {
   "cell_type": "code",
   "execution_count": null,
   "id": "ef476a34",
   "metadata": {},
   "outputs": [],
   "source": []
  },
  {
   "cell_type": "code",
   "execution_count": null,
   "id": "ba9e9326",
   "metadata": {},
   "outputs": [],
   "source": []
  }
 ],
 "metadata": {
  "kernelspec": {
   "display_name": "Python 3 (ipykernel)",
   "language": "python",
   "name": "python3"
  },
  "language_info": {
   "codemirror_mode": {
    "name": "ipython",
    "version": 3
   },
   "file_extension": ".py",
   "mimetype": "text/x-python",
   "name": "python",
   "nbconvert_exporter": "python",
   "pygments_lexer": "ipython3",
   "version": "3.9.12"
  }
 },
 "nbformat": 4,
 "nbformat_minor": 5
}
